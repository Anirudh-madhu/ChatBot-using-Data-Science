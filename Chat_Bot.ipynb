{
 "cells": [
  {
   "cell_type": "markdown",
   "metadata": {},
   "source": [
    "# Libraries"
   ]
  },
  {
   "cell_type": "code",
   "execution_count": 1,
   "metadata": {},
   "outputs": [
    {
     "name": "stderr",
     "output_type": "stream",
     "text": [
      "Using TensorFlow backend.\n"
     ]
    }
   ],
   "source": [
    "import nltk\n",
    "import os\n",
    "from nltk.stem import WordNetLemmatizer\n",
    "lemmatizer = WordNetLemmatizer()\n",
    "import json\n",
    "import pickle\n",
    "import numpy as np\n",
    "from keras.models import Sequential\n",
    "from keras.layers import Dense, Activation, Dropout\n",
    "from keras.optimizers import SGD\n",
    "import random\n",
    "import tensorflow as tf\n",
    "import tkinter\n",
    "from tkinter import *\n",
    "from keras.models import load_model"
   ]
  },
  {
   "cell_type": "markdown",
   "metadata": {},
   "source": [
    "# Extracting the data"
   ]
  },
  {
   "cell_type": "code",
   "execution_count": 2,
   "metadata": {},
   "outputs": [],
   "source": [
    "words=[]\n",
    "classes = []\n",
    "documents = []\n",
    "ignore_words = ['?', '!']\n",
    "data_file = open('intents.json').read()\n",
    "intents = json.loads(data_file)"
   ]
  },
  {
   "cell_type": "code",
   "execution_count": null,
   "metadata": {},
   "outputs": [],
   "source": []
  },
  {
   "cell_type": "markdown",
   "metadata": {},
   "source": [
    "# Tokenizing the sentence"
   ]
  },
  {
   "cell_type": "code",
   "execution_count": 3,
   "metadata": {},
   "outputs": [],
   "source": [
    "for intent in intents['intents']:\n",
    "    for pattern in intent['patterns']:\n",
    "        \n",
    "        w = nltk.word_tokenize(pattern)\n",
    "        words.extend(w)\n",
    "       \n",
    "        documents.append((w, intent['tag']))\n",
    "        \n",
    "        if intent['tag'] not in classes:\n",
    "            classes.append(intent['tag'])"
   ]
  },
  {
   "cell_type": "markdown",
   "metadata": {},
   "source": [
    "# Lemmatization"
   ]
  },
  {
   "cell_type": "code",
   "execution_count": 4,
   "metadata": {},
   "outputs": [
    {
     "name": "stdout",
     "output_type": "stream",
     "text": [
      "47 documents\n",
      "9 classes ['adverse_drug', 'blood_pressure', 'blood_pressure_search', 'goodbye', 'greeting', 'hospital_search', 'options', 'pharmacy_search', 'thanks']\n",
      "88 unique lemmatized words [\"'s\", ',', 'a', 'adverse', 'all', 'anyone', 'are', 'awesome', 'be', 'behavior', 'blood', 'by', 'bye', 'can', 'causing', 'chatting', 'check', 'could', 'data', 'day', 'detail', 'do', 'dont', 'drug', 'entry', 'find', 'for', 'give', 'good', 'goodbye', 'have', 'hello', 'help', 'helpful', 'helping', 'hey', 'hi', 'history', 'hola', 'hospital', 'how', 'i', 'id', 'is', 'later', 'list', 'load', 'locate', 'log', 'looking', 'lookup', 'management', 'me', 'module', 'nearby', 'next', 'nice', 'of', 'offered', 'open', 'patient', 'pharmacy', 'pressure', 'provide', 'reaction', 'related', 'result', 'search', 'searching', 'see', 'show', 'suitable', 'support', 'task', 'thank', 'thanks', 'that', 'there', 'till', 'time', 'to', 'transfer', 'up', 'want', 'what', 'which', 'with', 'you']\n"
     ]
    }
   ],
   "source": [
    "\n",
    "words = [lemmatizer.lemmatize(w.lower()) for w in words if w not in ignore_words]\n",
    "words = sorted(list(set(words)))\n",
    "\n",
    "classes = sorted(list(set(classes)))\n",
    "\n",
    "print (len(documents), \"documents\")\n",
    "\n",
    "print (len(classes), \"classes\", classes)\n",
    "\n",
    "print (len(words), \"unique lemmatized words\", words)\n",
    "pickle.dump(words,open('words.pkl','wb'))\n",
    "pickle.dump(classes,open('classes.pkl','wb'))"
   ]
  },
  {
   "cell_type": "code",
   "execution_count": 5,
   "metadata": {},
   "outputs": [
    {
     "name": "stdout",
     "output_type": "stream",
     "text": [
      "88 unique lemmatized words [\"'s\", ',', 'a', 'adverse', 'all', 'anyone', 'are', 'awesome', 'be', 'behavior', 'blood', 'by', 'bye', 'can', 'causing', 'chatting', 'check', 'could', 'data', 'day', 'detail', 'do', 'dont', 'drug', 'entry', 'find', 'for', 'give', 'good', 'goodbye', 'have', 'hello', 'help', 'helpful', 'helping', 'hey', 'hi', 'history', 'hola', 'hospital', 'how', 'i', 'id', 'is', 'later', 'list', 'load', 'locate', 'log', 'looking', 'lookup', 'management', 'me', 'module', 'nearby', 'next', 'nice', 'of', 'offered', 'open', 'patient', 'pharmacy', 'pressure', 'provide', 'reaction', 'related', 'result', 'search', 'searching', 'see', 'show', 'suitable', 'support', 'task', 'thank', 'thanks', 'that', 'there', 'till', 'time', 'to', 'transfer', 'up', 'want', 'what', 'which', 'with', 'you']\n"
     ]
    }
   ],
   "source": [
    "print (len(words), \"unique lemmatized words\", words)\n",
    "pickle.dump(words,open('words.pkl','wb'))\n",
    "pickle.dump(classes,open('classes.pkl','wb'))"
   ]
  },
  {
   "cell_type": "markdown",
   "metadata": {},
   "source": [
    "# Training the model"
   ]
  },
  {
   "cell_type": "code",
   "execution_count": 7,
   "metadata": {},
   "outputs": [
    {
     "name": "stdout",
     "output_type": "stream",
     "text": [
      "training created\n"
     ]
    }
   ],
   "source": [
    "\n",
    "training = []\n",
    "\n",
    "output_empty = [0] * len(classes)\n",
    "\n",
    "for doc in documents:\n",
    "    \n",
    "    bag = []\n",
    "    \n",
    "    pattern_words = doc[0]\n",
    "    \n",
    "    pattern_words = [lemmatizer.lemmatize(word.lower()) for word in pattern_words]\n",
    "    \n",
    "for w in words:\n",
    "    bag.append(1) if w in pattern_words else bag.append(0)\n",
    "    \n",
    "    output_row = list(output_empty)\n",
    "    output_row[classes.index(doc[1])] = 1\n",
    "    training.append([bag, output_row])\n",
    "\n",
    "random.shuffle(training)\n",
    "training = np.array(training)\n",
    "print('training created')\n"
   ]
  },
  {
   "cell_type": "code",
   "execution_count": 8,
   "metadata": {},
   "outputs": [
    {
     "name": "stdout",
     "output_type": "stream",
     "text": [
      "Training data created\n"
     ]
    }
   ],
   "source": [
    "train_x = list(training[:,0])\n",
    "train_y = list(training[:,1])\n",
    "print(\"Training data created\")"
   ]
  },
  {
   "cell_type": "markdown",
   "metadata": {},
   "source": [
    "# Model Buliding"
   ]
  },
  {
   "cell_type": "code",
   "execution_count": 10,
   "metadata": {},
   "outputs": [
    {
     "name": "stderr",
     "output_type": "stream",
     "text": [
      "WARNING: Logging before flag parsing goes to stderr.\n",
      "W0107 16:03:16.184602  8580 deprecation_wrapper.py:119] From D:\\Anaconda\\lib\\site-packages\\keras\\backend\\tensorflow_backend.py:74: The name tf.get_default_graph is deprecated. Please use tf.compat.v1.get_default_graph instead.\n",
      "\n"
     ]
    }
   ],
   "source": [
    "model=Sequential()"
   ]
  },
  {
   "cell_type": "code",
   "execution_count": 11,
   "metadata": {},
   "outputs": [
    {
     "name": "stderr",
     "output_type": "stream",
     "text": [
      "W0107 16:03:19.027795  8580 deprecation_wrapper.py:119] From D:\\Anaconda\\lib\\site-packages\\keras\\backend\\tensorflow_backend.py:517: The name tf.placeholder is deprecated. Please use tf.compat.v1.placeholder instead.\n",
      "\n",
      "W0107 16:03:20.585516  8580 deprecation_wrapper.py:119] From D:\\Anaconda\\lib\\site-packages\\keras\\backend\\tensorflow_backend.py:4138: The name tf.random_uniform is deprecated. Please use tf.random.uniform instead.\n",
      "\n",
      "W0107 16:03:20.675004  8580 deprecation_wrapper.py:119] From D:\\Anaconda\\lib\\site-packages\\keras\\backend\\tensorflow_backend.py:133: The name tf.placeholder_with_default is deprecated. Please use tf.compat.v1.placeholder_with_default instead.\n",
      "\n",
      "W0107 16:03:20.797840  8580 deprecation.py:506] From D:\\Anaconda\\lib\\site-packages\\keras\\backend\\tensorflow_backend.py:3445: calling dropout (from tensorflow.python.ops.nn_ops) with keep_prob is deprecated and will be removed in a future version.\n",
      "Instructions for updating:\n",
      "Please use `rate` instead of `keep_prob`. Rate should be set to `rate = 1 - keep_prob`.\n",
      "W0107 16:03:20.999590  8580 deprecation_wrapper.py:119] From D:\\Anaconda\\lib\\site-packages\\keras\\optimizers.py:790: The name tf.train.Optimizer is deprecated. Please use tf.compat.v1.train.Optimizer instead.\n",
      "\n",
      "W0107 16:03:21.012539  8580 deprecation_wrapper.py:119] From D:\\Anaconda\\lib\\site-packages\\keras\\backend\\tensorflow_backend.py:3295: The name tf.log is deprecated. Please use tf.math.log instead.\n",
      "\n",
      "W0107 16:03:21.628185  8580 deprecation.py:323] From D:\\Anaconda\\lib\\site-packages\\tensorflow\\python\\ops\\math_grad.py:1250: add_dispatch_support.<locals>.wrapper (from tensorflow.python.ops.array_ops) is deprecated and will be removed in a future version.\n",
      "Instructions for updating:\n",
      "Use tf.where in 2.0, which has the same broadcast rule as np.where\n"
     ]
    },
    {
     "name": "stdout",
     "output_type": "stream",
     "text": [
      "Epoch 1/200\n",
      "88/88 [==============================] - 1s 14ms/step - loss: 0.8849 - acc: 0.8636\n",
      "Epoch 2/200\n",
      "88/88 [==============================] - 0s 530us/step - loss: 0.0155 - acc: 1.0000\n",
      "Epoch 3/200\n",
      "88/88 [==============================] - 0s 492us/step - loss: 0.0025 - acc: 1.0000\n",
      "Epoch 4/200\n",
      "88/88 [==============================] - 0s 321us/step - loss: 0.0011 - acc: 1.0000\n",
      "Epoch 5/200\n",
      "88/88 [==============================] - 0s 398us/step - loss: 0.0037 - acc: 1.0000\n",
      "Epoch 6/200\n",
      "88/88 [==============================] - 0s 376us/step - loss: 0.0039 - acc: 1.0000\n",
      "Epoch 7/200\n",
      "88/88 [==============================] - 0s 325us/step - loss: 0.0033 - acc: 1.0000\n",
      "Epoch 8/200\n",
      "88/88 [==============================] - 0s 334us/step - loss: 3.7244e-04 - acc: 1.0000\n",
      "Epoch 9/200\n",
      "88/88 [==============================] - 0s 411us/step - loss: 0.0043 - acc: 1.0000\n",
      "Epoch 10/200\n",
      "88/88 [==============================] - 0s 381us/step - loss: 5.4943e-04 - acc: 1.0000\n",
      "Epoch 11/200\n",
      "88/88 [==============================] - 0s 413us/step - loss: 0.0025 - acc: 1.0000\n",
      "Epoch 12/200\n",
      "88/88 [==============================] - 0s 407us/step - loss: 6.4480e-04 - acc: 1.0000\n",
      "Epoch 13/200\n",
      "88/88 [==============================] - 0s 419us/step - loss: 0.0015 - acc: 1.0000\n",
      "Epoch 14/200\n",
      "88/88 [==============================] - 0s 422us/step - loss: 2.4721e-04 - acc: 1.0000\n",
      "Epoch 15/200\n",
      "88/88 [==============================] - 0s 330us/step - loss: 0.0022 - acc: 1.0000\n",
      "Epoch 16/200\n",
      "88/88 [==============================] - 0s 401us/step - loss: 3.2432e-04 - acc: 1.0000\n",
      "Epoch 17/200\n",
      "88/88 [==============================] - 0s 381us/step - loss: 0.0012 - acc: 1.0000\n",
      "Epoch 18/200\n",
      "88/88 [==============================] - 0s 363us/step - loss: 0.0012 - acc: 1.0000\n",
      "Epoch 19/200\n",
      "88/88 [==============================] - 0s 341us/step - loss: 0.0018 - acc: 1.0000\n",
      "Epoch 20/200\n",
      "88/88 [==============================] - 0s 311us/step - loss: 0.0011 - acc: 1.0000\n",
      "Epoch 21/200\n",
      "88/88 [==============================] - 0s 319us/step - loss: 1.0241e-04 - acc: 1.0000\n",
      "Epoch 22/200\n",
      "88/88 [==============================] - 0s 342us/step - loss: 9.4885e-04 - acc: 1.0000\n",
      "Epoch 23/200\n",
      "88/88 [==============================] - 0s 231us/step - loss: 4.3754e-04 - acc: 1.0000\n",
      "Epoch 24/200\n",
      "88/88 [==============================] - 0s 360us/step - loss: 0.0011 - acc: 1.0000\n",
      "Epoch 25/200\n",
      "88/88 [==============================] - 0s 316us/step - loss: 1.7793e-04 - acc: 1.0000\n",
      "Epoch 26/200\n",
      "88/88 [==============================] - 0s 298us/step - loss: 0.0014 - acc: 1.0000\n",
      "Epoch 27/200\n",
      "88/88 [==============================] - 0s 293us/step - loss: 1.1012e-04 - acc: 1.0000\n",
      "Epoch 28/200\n",
      "88/88 [==============================] - 0s 339us/step - loss: 7.6381e-05 - acc: 1.0000\n",
      "Epoch 29/200\n",
      "88/88 [==============================] - 0s 450us/step - loss: 0.0031 - acc: 1.0000\n",
      "Epoch 30/200\n",
      "88/88 [==============================] - 0s 445us/step - loss: 3.3532e-04 - acc: 1.0000\n",
      "Epoch 31/200\n",
      "88/88 [==============================] - 0s 424us/step - loss: 1.3526e-04 - acc: 1.0000\n",
      "Epoch 32/200\n",
      "88/88 [==============================] - 0s 408us/step - loss: 3.3075e-04 - acc: 1.0000\n",
      "Epoch 33/200\n",
      "88/88 [==============================] - 0s 411us/step - loss: 9.9481e-04 - acc: 1.0000\n",
      "Epoch 34/200\n",
      "88/88 [==============================] - 0s 477us/step - loss: 0.0024 - acc: 1.0000\n",
      "Epoch 35/200\n",
      "88/88 [==============================] - 0s 419us/step - loss: 3.3172e-04 - acc: 1.0000\n",
      "Epoch 36/200\n",
      "88/88 [==============================] - 0s 409us/step - loss: 4.5019e-04 - acc: 1.0000\n",
      "Epoch 37/200\n",
      "88/88 [==============================] - 0s 436us/step - loss: 3.1611e-04 - acc: 1.0000\n",
      "Epoch 38/200\n",
      "88/88 [==============================] - 0s 453us/step - loss: 2.7839e-04 - acc: 1.0000\n",
      "Epoch 39/200\n",
      "88/88 [==============================] - 0s 475us/step - loss: 1.0930e-04 - acc: 1.0000\n",
      "Epoch 40/200\n",
      "88/88 [==============================] - 0s 399us/step - loss: 9.4909e-04 - acc: 1.0000\n",
      "Epoch 41/200\n",
      "88/88 [==============================] - 0s 400us/step - loss: 0.0040 - acc: 1.0000\n",
      "Epoch 42/200\n",
      "88/88 [==============================] - 0s 335us/step - loss: 4.5446e-04 - acc: 1.0000\n",
      "Epoch 43/200\n",
      "88/88 [==============================] - 0s 340us/step - loss: 9.0040e-06 - acc: 1.0000\n",
      "Epoch 44/200\n",
      "88/88 [==============================] - 0s 362us/step - loss: 8.8170e-04 - acc: 1.0000\n",
      "Epoch 45/200\n",
      "88/88 [==============================] - 0s 447us/step - loss: 4.2446e-05 - acc: 1.0000\n",
      "Epoch 46/200\n",
      "88/88 [==============================] - 0s 386us/step - loss: 2.2730e-04 - acc: 1.0000\n",
      "Epoch 47/200\n",
      "88/88 [==============================] - 0s 370us/step - loss: 3.0829e-04 - acc: 1.0000\n",
      "Epoch 48/200\n",
      "88/88 [==============================] - 0s 358us/step - loss: 5.1621e-04 - acc: 1.0000\n",
      "Epoch 49/200\n",
      "88/88 [==============================] - 0s 379us/step - loss: 2.6515e-04 - acc: 1.0000\n",
      "Epoch 50/200\n",
      "88/88 [==============================] - 0s 302us/step - loss: 3.4177e-05 - acc: 1.0000\n",
      "Epoch 51/200\n",
      "88/88 [==============================] - 0s 321us/step - loss: 7.0559e-04 - acc: 1.0000\n",
      "Epoch 52/200\n",
      "88/88 [==============================] - 0s 343us/step - loss: 0.0013 - acc: 1.0000\n",
      "Epoch 53/200\n",
      "88/88 [==============================] - 0s 314us/step - loss: 5.0628e-04 - acc: 1.0000\n",
      "Epoch 54/200\n",
      "88/88 [==============================] - 0s 328us/step - loss: 3.3569e-05 - acc: 1.0000\n",
      "Epoch 55/200\n",
      "88/88 [==============================] - 0s 278us/step - loss: 0.0013 - acc: 1.0000\n",
      "Epoch 56/200\n",
      "88/88 [==============================] - 0s 334us/step - loss: 7.4500e-05 - acc: 1.0000\n",
      "Epoch 57/200\n",
      "88/88 [==============================] - 0s 324us/step - loss: 7.2910e-04 - acc: 1.0000\n",
      "Epoch 58/200\n",
      "88/88 [==============================] - 0s 342us/step - loss: 1.2187e-04 - acc: 1.0000\n",
      "Epoch 59/200\n",
      "88/88 [==============================] - 0s 267us/step - loss: 6.2804e-04 - acc: 1.0000\n",
      "Epoch 60/200\n",
      "88/88 [==============================] - 0s 277us/step - loss: 4.0124e-04 - acc: 1.0000\n",
      "Epoch 61/200\n",
      "88/88 [==============================] - 0s 244us/step - loss: 1.5144e-04 - acc: 1.0000\n",
      "Epoch 62/200\n",
      "88/88 [==============================] - 0s 264us/step - loss: 1.2928e-04 - acc: 1.0000\n",
      "Epoch 63/200\n",
      "88/88 [==============================] - 0s 306us/step - loss: 4.6641e-05 - acc: 1.0000\n",
      "Epoch 64/200\n",
      "88/88 [==============================] - 0s 285us/step - loss: 2.8984e-05 - acc: 1.0000\n",
      "Epoch 65/200\n",
      "88/88 [==============================] - 0s 303us/step - loss: 0.0017 - acc: 1.0000\n",
      "Epoch 66/200\n",
      "88/88 [==============================] - 0s 356us/step - loss: 0.0013 - acc: 1.0000\n",
      "Epoch 67/200\n",
      "88/88 [==============================] - 0s 333us/step - loss: 4.6978e-05 - acc: 1.0000\n",
      "Epoch 68/200\n",
      "88/88 [==============================] - 0s 371us/step - loss: 3.9358e-05 - acc: 1.0000\n",
      "Epoch 69/200\n",
      "88/88 [==============================] - 0s 314us/step - loss: 3.7487e-04 - acc: 1.0000\n",
      "Epoch 70/200\n",
      "88/88 [==============================] - 0s 342us/step - loss: 9.2188e-05 - acc: 1.0000\n",
      "Epoch 71/200\n",
      "88/88 [==============================] - 0s 312us/step - loss: 1.8416e-04 - acc: 1.0000\n",
      "Epoch 72/200\n",
      "88/88 [==============================] - 0s 327us/step - loss: 3.5783e-05 - acc: 1.0000\n",
      "Epoch 73/200\n",
      "88/88 [==============================] - 0s 324us/step - loss: 3.2242e-05 - acc: 1.0000\n",
      "Epoch 74/200\n",
      "88/88 [==============================] - 0s 345us/step - loss: 0.0028 - acc: 1.0000\n",
      "Epoch 75/200\n",
      "88/88 [==============================] - 0s 374us/step - loss: 1.5530e-04 - acc: 1.0000\n",
      "Epoch 76/200\n",
      "88/88 [==============================] - 0s 306us/step - loss: 2.4666e-04 - acc: 1.0000\n",
      "Epoch 77/200\n",
      "88/88 [==============================] - 0s 349us/step - loss: 5.1090e-04 - acc: 1.0000\n",
      "Epoch 78/200\n",
      "88/88 [==============================] - 0s 350us/step - loss: 1.2522e-04 - acc: 1.0000\n",
      "Epoch 79/200\n",
      "88/88 [==============================] - 0s 356us/step - loss: 8.7152e-05 - acc: 1.0000\n",
      "Epoch 80/200\n",
      "88/88 [==============================] - 0s 323us/step - loss: 1.5015e-04 - acc: 1.0000\n",
      "Epoch 81/200\n",
      "88/88 [==============================] - 0s 327us/step - loss: 7.3947e-05 - acc: 1.0000\n",
      "Epoch 82/200\n",
      "88/88 [==============================] - 0s 304us/step - loss: 5.0482e-05 - acc: 1.0000\n",
      "Epoch 83/200\n"
     ]
    },
    {
     "name": "stdout",
     "output_type": "stream",
     "text": [
      "88/88 [==============================] - 0s 327us/step - loss: 6.9305e-05 - acc: 1.0000\n",
      "Epoch 84/200\n",
      "88/88 [==============================] - 0s 332us/step - loss: 7.9035e-04 - acc: 1.0000\n",
      "Epoch 85/200\n",
      "88/88 [==============================] - 0s 333us/step - loss: 6.6066e-05 - acc: 1.0000\n",
      "Epoch 86/200\n",
      "88/88 [==============================] - 0s 326us/step - loss: 6.6336e-05 - acc: 1.0000\n",
      "Epoch 87/200\n",
      "88/88 [==============================] - 0s 366us/step - loss: 4.3401e-05 - acc: 1.0000\n",
      "Epoch 88/200\n",
      "88/88 [==============================] - 0s 342us/step - loss: 1.5061e-04 - acc: 1.0000\n",
      "Epoch 89/200\n",
      "88/88 [==============================] - 0s 297us/step - loss: 6.1993e-05 - acc: 1.0000\n",
      "Epoch 90/200\n",
      "88/88 [==============================] - 0s 376us/step - loss: 2.2973e-04 - acc: 1.0000\n",
      "Epoch 91/200\n",
      "88/88 [==============================] - 0s 335us/step - loss: 3.0523e-05 - acc: 1.0000\n",
      "Epoch 92/200\n",
      "88/88 [==============================] - 0s 407us/step - loss: 4.6121e-06 - acc: 1.0000\n",
      "Epoch 93/200\n",
      "88/88 [==============================] - 0s 276us/step - loss: 5.1005e-06 - acc: 1.0000\n",
      "Epoch 94/200\n",
      "88/88 [==============================] - 0s 320us/step - loss: 2.9931e-04 - acc: 1.0000\n",
      "Epoch 95/200\n",
      "88/88 [==============================] - 0s 329us/step - loss: 7.8748e-05 - acc: 1.0000\n",
      "Epoch 96/200\n",
      "88/88 [==============================] - 0s 378us/step - loss: 6.1510e-04 - acc: 1.0000\n",
      "Epoch 97/200\n",
      "88/88 [==============================] - 0s 404us/step - loss: 0.0011 - acc: 1.0000\n",
      "Epoch 98/200\n",
      "88/88 [==============================] - 0s 340us/step - loss: 7.8179e-04 - acc: 1.0000\n",
      "Epoch 99/200\n",
      "88/88 [==============================] - 0s 326us/step - loss: 1.1877e-04 - acc: 1.0000\n",
      "Epoch 100/200\n",
      "88/88 [==============================] - 0s 323us/step - loss: 1.4855e-05 - acc: 1.0000\n",
      "Epoch 101/200\n",
      "88/88 [==============================] - 0s 331us/step - loss: 2.4726e-05 - acc: 1.0000\n",
      "Epoch 102/200\n",
      "88/88 [==============================] - 0s 317us/step - loss: 3.5549e-05 - acc: 1.0000\n",
      "Epoch 103/200\n",
      "88/88 [==============================] - 0s 330us/step - loss: 5.9810e-05 - acc: 1.0000\n",
      "Epoch 104/200\n",
      "88/88 [==============================] - 0s 331us/step - loss: 4.3601e-05 - acc: 1.0000\n",
      "Epoch 105/200\n",
      "88/88 [==============================] - 0s 310us/step - loss: 3.4198e-04 - acc: 1.0000\n",
      "Epoch 106/200\n",
      "88/88 [==============================] - 0s 326us/step - loss: 7.4393e-05 - acc: 1.0000\n",
      "Epoch 107/200\n",
      "88/88 [==============================] - 0s 361us/step - loss: 4.0588e-05 - acc: 1.0000\n",
      "Epoch 108/200\n",
      "88/88 [==============================] - 0s 329us/step - loss: 1.0049e-04 - acc: 1.0000\n",
      "Epoch 109/200\n",
      "88/88 [==============================] - 0s 316us/step - loss: 5.3734e-04 - acc: 1.0000\n",
      "Epoch 110/200\n",
      "88/88 [==============================] - 0s 349us/step - loss: 2.4833e-04 - acc: 1.0000\n",
      "Epoch 111/200\n",
      "88/88 [==============================] - 0s 348us/step - loss: 1.9067e-04 - acc: 1.0000\n",
      "Epoch 112/200\n",
      "88/88 [==============================] - 0s 323us/step - loss: 0.0018 - acc: 1.0000\n",
      "Epoch 113/200\n",
      "88/88 [==============================] - 0s 321us/step - loss: 6.0255e-05 - acc: 1.0000\n",
      "Epoch 114/200\n",
      "88/88 [==============================] - 0s 296us/step - loss: 0.0011 - acc: 1.0000\n",
      "Epoch 115/200\n",
      "88/88 [==============================] - 0s 355us/step - loss: 9.9633e-05 - acc: 1.0000\n",
      "Epoch 116/200\n",
      "88/88 [==============================] - 0s 317us/step - loss: 8.8840e-05 - acc: 1.0000\n",
      "Epoch 117/200\n",
      "88/88 [==============================] - 0s 344us/step - loss: 2.2905e-05 - acc: 1.0000\n",
      "Epoch 118/200\n",
      "88/88 [==============================] - 0s 358us/step - loss: 1.3018e-04 - acc: 1.0000\n",
      "Epoch 119/200\n",
      "88/88 [==============================] - 0s 270us/step - loss: 1.3210e-05 - acc: 1.0000\n",
      "Epoch 120/200\n",
      "88/88 [==============================] - 0s 357us/step - loss: 1.2287e-04 - acc: 1.0000\n",
      "Epoch 121/200\n",
      "88/88 [==============================] - 0s 310us/step - loss: 1.7051e-04 - acc: 1.0000\n",
      "Epoch 122/200\n",
      "88/88 [==============================] - 0s 349us/step - loss: 2.0886e-04 - acc: 1.0000\n",
      "Epoch 123/200\n",
      "88/88 [==============================] - 0s 347us/step - loss: 1.5865e-05 - acc: 1.0000\n",
      "Epoch 124/200\n",
      "88/88 [==============================] - 0s 347us/step - loss: 1.1582e-04 - acc: 1.0000\n",
      "Epoch 125/200\n",
      "88/88 [==============================] - 0s 331us/step - loss: 7.3437e-04 - acc: 1.0000\n",
      "Epoch 126/200\n",
      "88/88 [==============================] - 0s 337us/step - loss: 5.8385e-04 - acc: 1.0000\n",
      "Epoch 127/200\n",
      "88/88 [==============================] - 0s 318us/step - loss: 6.1770e-04 - acc: 1.0000\n",
      "Epoch 128/200\n",
      "88/88 [==============================] - 0s 333us/step - loss: 4.2922e-05 - acc: 1.0000\n",
      "Epoch 129/200\n",
      "88/88 [==============================] - 0s 340us/step - loss: 7.8845e-05 - acc: 1.0000\n",
      "Epoch 130/200\n",
      "88/88 [==============================] - 0s 321us/step - loss: 3.1817e-04 - acc: 1.0000\n",
      "Epoch 131/200\n",
      "88/88 [==============================] - 0s 326us/step - loss: 1.6641e-04 - acc: 1.0000\n",
      "Epoch 132/200\n",
      "88/88 [==============================] - 0s 332us/step - loss: 1.0424e-04 - acc: 1.0000\n",
      "Epoch 133/200\n",
      "88/88 [==============================] - 0s 336us/step - loss: 5.0513e-05 - acc: 1.0000\n",
      "Epoch 134/200\n",
      "88/88 [==============================] - 0s 323us/step - loss: 2.7922e-04 - acc: 1.0000\n",
      "Epoch 135/200\n",
      "88/88 [==============================] - 0s 318us/step - loss: 4.0007e-05 - acc: 1.0000\n",
      "Epoch 136/200\n",
      "88/88 [==============================] - 0s 312us/step - loss: 3.7196e-04 - acc: 1.0000\n",
      "Epoch 137/200\n",
      "88/88 [==============================] - 0s 342us/step - loss: 4.1099e-05 - acc: 1.0000\n",
      "Epoch 138/200\n",
      "88/88 [==============================] - 0s 326us/step - loss: 6.2272e-04 - acc: 1.0000\n",
      "Epoch 139/200\n",
      "88/88 [==============================] - 0s 320us/step - loss: 2.5207e-04 - acc: 1.0000\n",
      "Epoch 140/200\n",
      "88/88 [==============================] - 0s 314us/step - loss: 1.0106e-04 - acc: 1.0000\n",
      "Epoch 141/200\n",
      "88/88 [==============================] - 0s 328us/step - loss: 1.3799e-05 - acc: 1.0000\n",
      "Epoch 142/200\n",
      "88/88 [==============================] - 0s 303us/step - loss: 9.9995e-05 - acc: 1.0000\n",
      "Epoch 143/200\n",
      "88/88 [==============================] - 0s 313us/step - loss: 7.9940e-04 - acc: 1.0000\n",
      "Epoch 144/200\n",
      "88/88 [==============================] - 0s 316us/step - loss: 1.0950e-04 - acc: 1.0000\n",
      "Epoch 145/200\n",
      "88/88 [==============================] - 0s 310us/step - loss: 6.5492e-05 - acc: 1.0000\n",
      "Epoch 146/200\n",
      "88/88 [==============================] - 0s 326us/step - loss: 9.9020e-05 - acc: 1.0000\n",
      "Epoch 147/200\n",
      "88/88 [==============================] - 0s 317us/step - loss: 1.2632e-05 - acc: 1.0000\n",
      "Epoch 148/200\n",
      "88/88 [==============================] - 0s 329us/step - loss: 4.4971e-04 - acc: 1.0000\n",
      "Epoch 149/200\n",
      "88/88 [==============================] - 0s 312us/step - loss: 2.7285e-04 - acc: 1.0000\n",
      "Epoch 150/200\n",
      "88/88 [==============================] - 0s 347us/step - loss: 5.2257e-06 - acc: 1.0000\n",
      "Epoch 151/200\n",
      "88/88 [==============================] - 0s 346us/step - loss: 2.2965e-05 - acc: 1.0000\n",
      "Epoch 152/200\n",
      "88/88 [==============================] - 0s 322us/step - loss: 1.8127e-04 - acc: 1.0000\n",
      "Epoch 153/200\n",
      "88/88 [==============================] - 0s 350us/step - loss: 2.5113e-04 - acc: 1.0000\n",
      "Epoch 154/200\n",
      "88/88 [==============================] - 0s 331us/step - loss: 6.9014e-05 - acc: 1.0000\n",
      "Epoch 155/200\n",
      "88/88 [==============================] - 0s 331us/step - loss: 1.0177e-05 - acc: 1.0000\n",
      "Epoch 156/200\n",
      "88/88 [==============================] - 0s 228us/step - loss: 2.9569e-04 - acc: 1.0000\n",
      "Epoch 157/200\n",
      "88/88 [==============================] - 0s 340us/step - loss: 1.1207e-04 - acc: 1.0000\n",
      "Epoch 158/200\n",
      "88/88 [==============================] - 0s 292us/step - loss: 3.1696e-05 - acc: 1.0000\n",
      "Epoch 159/200\n",
      "88/88 [==============================] - 0s 327us/step - loss: 1.8522e-05 - acc: 1.0000\n",
      "Epoch 160/200\n",
      "88/88 [==============================] - 0s 327us/step - loss: 7.7254e-06 - acc: 1.0000\n",
      "Epoch 161/200\n",
      "88/88 [==============================] - 0s 372us/step - loss: 1.1386e-05 - acc: 1.0000\n",
      "Epoch 162/200\n",
      "88/88 [==============================] - 0s 309us/step - loss: 2.8767e-05 - acc: 1.0000\n",
      "Epoch 163/200\n"
     ]
    },
    {
     "name": "stdout",
     "output_type": "stream",
     "text": [
      "88/88 [==============================] - 0s 327us/step - loss: 4.4647e-06 - acc: 1.0000\n",
      "Epoch 164/200\n",
      "88/88 [==============================] - 0s 291us/step - loss: 3.6679e-05 - acc: 1.0000\n",
      "Epoch 165/200\n",
      "88/88 [==============================] - 0s 323us/step - loss: 4.4164e-05 - acc: 1.0000\n",
      "Epoch 166/200\n",
      "88/88 [==============================] - 0s 339us/step - loss: 1.9143e-05 - acc: 1.0000\n",
      "Epoch 167/200\n",
      "88/88 [==============================] - 0s 335us/step - loss: 3.5439e-05 - acc: 1.0000\n",
      "Epoch 168/200\n",
      "88/88 [==============================] - 0s 308us/step - loss: 9.7963e-05 - acc: 1.0000\n",
      "Epoch 169/200\n",
      "88/88 [==============================] - 0s 369us/step - loss: 1.2479e-04 - acc: 1.0000\n",
      "Epoch 170/200\n",
      "88/88 [==============================] - 0s 386us/step - loss: 2.7219e-05 - acc: 1.0000\n",
      "Epoch 171/200\n",
      "88/88 [==============================] - 0s 369us/step - loss: 1.1405e-05 - acc: 1.0000\n",
      "Epoch 172/200\n",
      "88/88 [==============================] - 0s 343us/step - loss: 1.2893e-05 - acc: 1.0000\n",
      "Epoch 173/200\n",
      "88/88 [==============================] - 0s 346us/step - loss: 4.2829e-06 - acc: 1.0000\n",
      "Epoch 174/200\n",
      "88/88 [==============================] - 0s 418us/step - loss: 1.1842e-05 - acc: 1.0000\n",
      "Epoch 175/200\n",
      "88/88 [==============================] - 0s 378us/step - loss: 4.9179e-05 - acc: 1.0000\n",
      "Epoch 176/200\n",
      "88/88 [==============================] - 0s 368us/step - loss: 1.5260e-05 - acc: 1.0000\n",
      "Epoch 177/200\n",
      "88/88 [==============================] - 0s 331us/step - loss: 2.3666e-06 - acc: 1.0000\n",
      "Epoch 178/200\n",
      "88/88 [==============================] - 0s 355us/step - loss: 3.7300e-04 - acc: 1.0000\n",
      "Epoch 179/200\n",
      "88/88 [==============================] - 0s 315us/step - loss: 2.5098e-04 - acc: 1.0000\n",
      "Epoch 180/200\n",
      "88/88 [==============================] - 0s 344us/step - loss: 1.5462e-05 - acc: 1.0000\n",
      "Epoch 181/200\n",
      "88/88 [==============================] - 0s 368us/step - loss: 1.6263e-05 - acc: 1.0000\n",
      "Epoch 182/200\n",
      "88/88 [==============================] - 0s 350us/step - loss: 1.4962e-05 - acc: 1.0000\n",
      "Epoch 183/200\n",
      "88/88 [==============================] - 0s 329us/step - loss: 1.0219e-04 - acc: 1.0000\n",
      "Epoch 184/200\n",
      "88/88 [==============================] - 0s 321us/step - loss: 6.8155e-06 - acc: 1.0000\n",
      "Epoch 185/200\n",
      "88/88 [==============================] - 0s 330us/step - loss: 7.5758e-06 - acc: 1.0000\n",
      "Epoch 186/200\n",
      "88/88 [==============================] - 0s 338us/step - loss: 3.9642e-05 - acc: 1.0000\n",
      "Epoch 187/200\n",
      "88/88 [==============================] - 0s 346us/step - loss: 4.3311e-06 - acc: 1.0000\n",
      "Epoch 188/200\n",
      "88/88 [==============================] - 0s 344us/step - loss: 7.2800e-05 - acc: 1.0000\n",
      "Epoch 189/200\n",
      "88/88 [==============================] - 0s 329us/step - loss: 5.3509e-05 - acc: 1.0000\n",
      "Epoch 190/200\n",
      "88/88 [==============================] - 0s 373us/step - loss: 1.9617e-04 - acc: 1.0000\n",
      "Epoch 191/200\n",
      "88/88 [==============================] - 0s 347us/step - loss: 2.6263e-05 - acc: 1.0000\n",
      "Epoch 192/200\n",
      "88/88 [==============================] - 0s 313us/step - loss: 2.7979e-04 - acc: 1.0000\n",
      "Epoch 193/200\n",
      "88/88 [==============================] - 0s 324us/step - loss: 1.6960e-06 - acc: 1.0000\n",
      "Epoch 194/200\n",
      "88/88 [==============================] - 0s 321us/step - loss: 1.6917e-04 - acc: 1.0000\n",
      "Epoch 195/200\n",
      "88/88 [==============================] - 0s 325us/step - loss: 9.0435e-04 - acc: 1.0000\n",
      "Epoch 196/200\n",
      "88/88 [==============================] - 0s 333us/step - loss: 7.0653e-05 - acc: 1.0000\n",
      "Epoch 197/200\n",
      "88/88 [==============================] - 0s 307us/step - loss: 1.7051e-05 - acc: 1.0000\n",
      "Epoch 198/200\n",
      "88/88 [==============================] - 0s 331us/step - loss: 2.4305e-04 - acc: 1.0000\n",
      "Epoch 199/200\n",
      "88/88 [==============================] - 0s 335us/step - loss: 8.1409e-05 - acc: 1.0000\n",
      "Epoch 200/200\n",
      "88/88 [==============================] - 0s 336us/step - loss: 4.5750e-05 - acc: 1.0000\n"
     ]
    }
   ],
   "source": [
    "model.add(Dense(128, input_shape=(len(train_x[0]),), activation='relu'))\n",
    "model.add(Dropout(0.5))\n",
    "model.add(Dense(64, activation='relu'))\n",
    "model.add(Dropout(0.5))\n",
    "model.add(Dense(len(train_y[0]), activation='softmax'))\n",
    "\n",
    "sgd=SGD(lr=0.01, decay=1e-6, momentum=0.9, nesterov=True)\n",
    "model.compile(loss='categorical_crossentropy', optimizer=sgd, metrics=['accuracy'])\n",
    "hist = model.fit(np.array(train_x), np.array(train_y), epochs=200, batch_size=5, verbose=1)"
   ]
  },
  {
   "cell_type": "code",
   "execution_count": 12,
   "metadata": {},
   "outputs": [],
   "source": [
    "model.save('chat_bot.h5', hist)"
   ]
  },
  {
   "cell_type": "code",
   "execution_count": 13,
   "metadata": {},
   "outputs": [
    {
     "data": {
      "text/plain": [
       "9"
      ]
     },
     "execution_count": 13,
     "metadata": {},
     "output_type": "execute_result"
    }
   ],
   "source": [
    "len(train_y[0])"
   ]
  },
  {
   "cell_type": "code",
   "execution_count": 14,
   "metadata": {},
   "outputs": [],
   "source": [
    "from keras.models import load_model"
   ]
  },
  {
   "cell_type": "code",
   "execution_count": 15,
   "metadata": {},
   "outputs": [],
   "source": [
    "model=load_model('chat_bot.h5')\n",
    "intents = json.loads(open('intents.json').read())\n",
    "words = pickle.load(open('words.pkl','rb'))\n",
    "classes = pickle.load(open('classes.pkl','rb'))"
   ]
  },
  {
   "cell_type": "code",
   "execution_count": null,
   "metadata": {},
   "outputs": [],
   "source": []
  },
  {
   "cell_type": "code",
   "execution_count": 16,
   "metadata": {},
   "outputs": [],
   "source": [
    "def clean_up_sentence(sentence):\n",
    "    sentence_words=nltk.word_tokenize(sentence)\n",
    "    sentence_words = [lemmatizer.lemmatize(word.lower()) for word in sentence_words]\n",
    "    return sentence_words\n",
    "\n"
   ]
  },
  {
   "cell_type": "code",
   "execution_count": 17,
   "metadata": {},
   "outputs": [],
   "source": [
    "def bow(sentence, words, show_details=True):\n",
    "   \n",
    "    sentence_words = clean_up_sentence(sentence)\n",
    "    \n",
    "    bag = [0]*len(words) \n",
    "    for s in sentence_words:\n",
    "        for i,w in enumerate(words):\n",
    "            if w == s: \n",
    "                \n",
    "                bag[i] = 1\n",
    "                if show_details:\n",
    "                    print (\"found in bag: %s\" % w)\n",
    "    return(np.array(bag))"
   ]
  },
  {
   "cell_type": "code",
   "execution_count": 24,
   "metadata": {},
   "outputs": [],
   "source": [
    "def predict_class(sentence, model):\n",
    "   \n",
    "    p = bow(sentence, words,show_details=False)\n",
    "    res = model.predict(np.array([p]))[0]\n",
    "    ERROR_THRESHOLD = 0.25\n",
    "    results = [[i,r] for i,r in enumerate(res) if r>ERROR_THRESHOLD]\n",
    "   \n",
    "    results.sort(key=lambda x: x[1], reverse=True)\n",
    "    return_list = []\n",
    "    for r in results:\n",
    "        return_list.append({\"intent\": classes[r[0]], \"probability\": str(r[1])})\n",
    "    return return_list\n"
   ]
  },
  {
   "cell_type": "code",
   "execution_count": 19,
   "metadata": {},
   "outputs": [],
   "source": [
    "def getResponse(ints, intents_json):\n",
    "    tag = ints[0]['intent']\n",
    "    list_of_intents = intents_json['intents']\n",
    "    for i in list_of_intents:\n",
    "        if(i['tag']== tag):\n",
    "            result = random.choice(i['responses'])\n",
    "            break\n",
    "    return result\n"
   ]
  },
  {
   "cell_type": "code",
   "execution_count": 20,
   "metadata": {},
   "outputs": [],
   "source": [
    "def chatbot_response(text):\n",
    "    ints = predict_class(text, model)\n",
    "    res = getResponse(ints, intents)\n",
    "    return res"
   ]
  },
  {
   "cell_type": "code",
   "execution_count": 23,
   "metadata": {},
   "outputs": [],
   "source": []
  },
  {
   "cell_type": "code",
   "execution_count": 48,
   "metadata": {},
   "outputs": [],
   "source": [
    "def send():\n",
    "    msg = EntryBox.get(\"1.0\",'end-1c').strip()\n",
    "    EntryBox.delete(\"0.0\",END)\n",
    "    if msg != '':\n",
    "        ChatLog.config(state=NORMAL)\n",
    "        ChatLog.insert(END, \"You: \" + msg + '\\n\\n')\n",
    "        ChatLog.config(foreground=\"#442265\", font=(\"Verdana\", 12 ))\n",
    "        res = chatbot_response(msg)\n",
    "        ChatLog.insert(END, \"Bot: \" + res + '\\n\\n')\n",
    "        ChatLog.config(state=DISABLED)\n",
    "        ChatLog.yview(END)\n",
    "\n",
    "    \n"
   ]
  },
  {
   "cell_type": "code",
   "execution_count": null,
   "metadata": {},
   "outputs": [],
   "source": [
    "base = Tk()\n",
    "base.title(\"Hello\")\n",
    "base.geometry(\"400x500\")\n",
    "base.resizable(width=FALSE, height=FALSE)\n",
    "\n",
    "ChatLog = Text(base, bd=0, bg=\"white\", height=\"8\", width=\"50\", font=\"Arial\",)\n",
    "ChatLog.config(state=DISABLED)\n",
    "\n",
    "scrollbar = Scrollbar(base, command=ChatLog.yview, cursor=\"heart\")\n",
    "ChatLog['yscrollcommand'] = scrollbar.set"
   ]
  },
  {
   "cell_type": "code",
   "execution_count": null,
   "metadata": {},
   "outputs": [],
   "source": [
    "SendButton = Button(base, font=(\"Verdana\",12,'bold'), text=\"Send\", width=\"12\", height=5,\n",
    "                    bd=0, bg=\"#32de97\", activebackground=\"#3c9d9b\",fg='#ffffff',\n",
    "                    command= send )\n",
    "\n",
    "EntryBox = Text(base, bd=0, bg=\"white\",width=\"29\", height=\"5\", font=\"Arial\")\n",
    "\n",
    "scrollbar.place(x=376,y=6, height=386)\n",
    "ChatLog.place(x=6,y=6, height=386, width=370)\n",
    "EntryBox.place(x=128, y=401, height=90, width=265)\n",
    "SendButton.place(x=6, y=401, height=90)\n",
    "base.mainloop()"
   ]
  },
  {
   "cell_type": "code",
   "execution_count": null,
   "metadata": {},
   "outputs": [],
   "source": []
  }
 ],
 "metadata": {
  "kernelspec": {
   "display_name": "Python 3",
   "language": "python",
   "name": "python3"
  },
  "language_info": {
   "codemirror_mode": {
    "name": "ipython",
    "version": 3
   },
   "file_extension": ".py",
   "mimetype": "text/x-python",
   "name": "python",
   "nbconvert_exporter": "python",
   "pygments_lexer": "ipython3",
   "version": "3.7.3"
  }
 },
 "nbformat": 4,
 "nbformat_minor": 2
}
